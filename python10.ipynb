{
 "cells": [
  {
   "cell_type": "code",
   "execution_count": 14,
   "id": "641d3853-1a47-4b2b-a51e-c01a488bbeec",
   "metadata": {},
   "outputs": [
    {
     "name": "stdout",
     "output_type": "stream",
     "text": [
      "1\n",
      "3.22\n",
      "5\n",
      "(2, 3)\n",
      "True\n"
     ]
    }
   ],
   "source": [
    "#creating a tuple and accessing\n",
    "t=(1,2,3,'apple',3.22)\n",
    "print(t[0])\n",
    "print(t[-1])\n",
    "print(len(t))\n",
    "print(t[1:3])\n",
    "print('apple'in t)"
   ]
  },
  {
   "cell_type": "code",
   "execution_count": null,
   "id": "864f1157-2619-4cf4-a02e-c8b30abbebe1",
   "metadata": {},
   "outputs": [],
   "source": []
  }
 ],
 "metadata": {
  "kernelspec": {
   "display_name": "Python [conda env:base] *",
   "language": "python",
   "name": "conda-base-py"
  },
  "language_info": {
   "codemirror_mode": {
    "name": "ipython",
    "version": 3
   },
   "file_extension": ".py",
   "mimetype": "text/x-python",
   "name": "python",
   "nbconvert_exporter": "python",
   "pygments_lexer": "ipython3",
   "version": "3.12.7"
  }
 },
 "nbformat": 4,
 "nbformat_minor": 5
}
