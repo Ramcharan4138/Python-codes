{
 "cells": [
  {
   "cell_type": "code",
   "execution_count": 14,
   "id": "7f649f37-08f4-484b-9524-59caf6f31df1",
   "metadata": {},
   "outputs": [
    {
     "name": "stdout",
     "output_type": "stream",
     "text": [
      "(1, 2, [3, 4, 5])\n",
      "(1, 2, [3, 4, 5, 66])\n",
      "(1, 2, [3, 4, 55, 66])\n"
     ]
    }
   ],
   "source": [
    "#implementation of list in a tuple\n",
    "t= (1,2, [3,4,5])\n",
    "print(t)\n",
    "t[2].append(66)\n",
    "print(t)\n",
    "t[2][2]=55\n",
    "print(t)"
   ]
  },
  {
   "cell_type": "code",
   "execution_count": 16,
   "id": "2dde1efa-14e5-4c17-b90e-cd572e3f8c37",
   "metadata": {},
   "outputs": [
    {
     "name": "stdout",
     "output_type": "stream",
     "text": [
      "[[1, 2], [3, 4], [5, 6]]\n",
      "[1, 2]\n",
      "3\n"
     ]
    }
   ],
   "source": [
    "nest=[[1,2], [3,4], [5,6]]\n",
    "print(nest)\n",
    "print(nest[0])\n",
    "print(nest[1][0])"
   ]
  },
  {
   "cell_type": "code",
   "execution_count": null,
   "id": "6f5946ed-a737-466d-801a-e850c71101f6",
   "metadata": {},
   "outputs": [],
   "source": []
  }
 ],
 "metadata": {
  "kernelspec": {
   "display_name": "Python [conda env:base] *",
   "language": "python",
   "name": "conda-base-py"
  },
  "language_info": {
   "codemirror_mode": {
    "name": "ipython",
    "version": 3
   },
   "file_extension": ".py",
   "mimetype": "text/x-python",
   "name": "python",
   "nbconvert_exporter": "python",
   "pygments_lexer": "ipython3",
   "version": "3.12.7"
  }
 },
 "nbformat": 4,
 "nbformat_minor": 5
}
