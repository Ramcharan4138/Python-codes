{
 "cells": [
  {
   "cell_type": "code",
   "execution_count": 6,
   "id": "0189d171-8fcc-4be7-9aef-77b44646c5d3",
   "metadata": {},
   "outputs": [
    {
     "name": "stdout",
     "output_type": "stream",
     "text": [
      "Vijayawada\n"
     ]
    }
   ],
   "source": [
    "#dictionary with tuples as keys\n",
    "loc= {\n",
    "    (40.1234,-75.00001):\"NewYork\",\n",
    "    (34.1223,-111.345): \"Vijayawada\"\n",
    "}\n",
    "print(loc[(34.1223,-111.345)])"
   ]
  },
  {
   "cell_type": "code",
   "execution_count": null,
   "id": "2310c84f-009c-41a9-a3aa-66adc541147b",
   "metadata": {},
   "outputs": [],
   "source": []
  }
 ],
 "metadata": {
  "kernelspec": {
   "display_name": "Python [conda env:base] *",
   "language": "python",
   "name": "conda-base-py"
  },
  "language_info": {
   "codemirror_mode": {
    "name": "ipython",
    "version": 3
   },
   "file_extension": ".py",
   "mimetype": "text/x-python",
   "name": "python",
   "nbconvert_exporter": "python",
   "pygments_lexer": "ipython3",
   "version": "3.12.7"
  }
 },
 "nbformat": 4,
 "nbformat_minor": 5
}
