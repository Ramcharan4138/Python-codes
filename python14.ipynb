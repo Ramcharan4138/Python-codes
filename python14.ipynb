{
 "cells": [
  {
   "cell_type": "code",
   "execution_count": 12,
   "id": "5747ee75-b729-4670-8dfd-b2cc0ba65c87",
   "metadata": {},
   "outputs": [
    {
     "name": "stdout",
     "output_type": "stream",
     "text": [
      "{1, 2, 3, 4, 5}\n",
      "add and remove elements\n",
      "{1, 2, 3, 4, 5, 6}\n",
      "{2, 3, 4, 5, 6}\n",
      "True\n",
      "True\n"
     ]
    }
   ],
   "source": [
    "#set implementations\n",
    "set_1={1,2,3,4,5}\n",
    "print(set_1)\n",
    "print(\"add and remove elements\")\n",
    "set_1.add(6)\n",
    "print(set_1)\n",
    "set_1.remove(1)\n",
    "print(set_1)\n",
    "print(3 in set_1)\n",
    "print(1 not in set_1)"
   ]
  },
  {
   "cell_type": "code",
   "execution_count": 18,
   "id": "5639e880-c770-4a06-b9df-d2485a8aec90",
   "metadata": {},
   "outputs": [
    {
     "name": "stdout",
     "output_type": "stream",
     "text": [
      "Union: {1, 2, 3, 4, 5}\n",
      "Intersection: {3}\n",
      "Difference: {1, 2}\n",
      "Symmmetric difference: {1, 2, 4, 5}\n"
     ]
    }
   ],
   "source": [
    "#set operations\n",
    "a= {1,2,3}\n",
    "b= {3,4,5}\n",
    "print(\"Union:\", a.union(b))\n",
    "print(\"Intersection:\",a.intersection(b))\n",
    "print(\"Difference:\", a.difference(b))\n",
    "print(\"Symmmetric difference:\", a.symmetric_difference(b))"
   ]
  },
  {
   "cell_type": "code",
   "execution_count": null,
   "id": "0ad35f80-901e-4f3c-b068-440e11c5b86c",
   "metadata": {},
   "outputs": [],
   "source": []
  }
 ],
 "metadata": {
  "kernelspec": {
   "display_name": "Python [conda env:base] *",
   "language": "python",
   "name": "conda-base-py"
  },
  "language_info": {
   "codemirror_mode": {
    "name": "ipython",
    "version": 3
   },
   "file_extension": ".py",
   "mimetype": "text/x-python",
   "name": "python",
   "nbconvert_exporter": "python",
   "pygments_lexer": "ipython3",
   "version": "3.12.7"
  }
 },
 "nbformat": 4,
 "nbformat_minor": 5
}
