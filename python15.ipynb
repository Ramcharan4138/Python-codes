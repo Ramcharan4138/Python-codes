{
 "cells": [
  {
   "cell_type": "code",
   "execution_count": 2,
   "id": "75ed97d6-17e8-4dd6-b094-442651efa0d1",
   "metadata": {},
   "outputs": [
    {
     "name": "stdout",
     "output_type": "stream",
     "text": [
      "Union: {1, 2, 3, 4, 5}\n",
      "Intersection: {3}\n",
      "Difference: {1, 2}\n",
      "Symmmetric difference: {1, 2, 4, 5}\n"
     ]
    }
   ],
   "source": [
    "#set operations\n",
    "a= {1,2,3}\n",
    "b= {3,4,5}\n",
    "print(\"Union:\", a.union(b))\n",
    "print(\"Intersection:\",a.intersection(b))\n",
    "print(\"Difference:\", a.difference(b))\n",
    "print(\"Symmmetric difference:\", a.symmetric_difference(b))"
   ]
  },
  {
   "cell_type": "code",
   "execution_count": null,
   "id": "ea96c63f-d673-4e0f-b48a-cdfc578724db",
   "metadata": {},
   "outputs": [],
   "source": []
  }
 ],
 "metadata": {
  "kernelspec": {
   "display_name": "Python [conda env:base] *",
   "language": "python",
   "name": "conda-base-py"
  },
  "language_info": {
   "codemirror_mode": {
    "name": "ipython",
    "version": 3
   },
   "file_extension": ".py",
   "mimetype": "text/x-python",
   "name": "python",
   "nbconvert_exporter": "python",
   "pygments_lexer": "ipython3",
   "version": "3.12.7"
  }
 },
 "nbformat": 4,
 "nbformat_minor": 5
}
