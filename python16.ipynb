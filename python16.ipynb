{
 "cells": [
  {
   "cell_type": "code",
   "execution_count": 2,
   "id": "49ea7bab-e026-45cd-9a4a-a7b977098537",
   "metadata": {},
   "outputs": [
    {
     "name": "stdout",
     "output_type": "stream",
     "text": [
      " a is subset to b: True\n",
      "b is subset to a: False\n"
     ]
    }
   ],
   "source": [
    "#subset check\n",
    "a={1,2}\n",
    "b={1,2,3,4,5}\n",
    "print(\" a is subset to b:\",a.issubset(b))\n",
    "print(\"b is subset to a:\",b.issubset(a))"
   ]
  },
  {
   "cell_type": "code",
   "execution_count": null,
   "id": "4f532ffe-1db0-42de-aa46-656e138778ce",
   "metadata": {},
   "outputs": [],
   "source": []
  }
 ],
 "metadata": {
  "kernelspec": {
   "display_name": "Python [conda env:base] *",
   "language": "python",
   "name": "conda-base-py"
  },
  "language_info": {
   "codemirror_mode": {
    "name": "ipython",
    "version": 3
   },
   "file_extension": ".py",
   "mimetype": "text/x-python",
   "name": "python",
   "nbconvert_exporter": "python",
   "pygments_lexer": "ipython3",
   "version": "3.12.7"
  }
 },
 "nbformat": 4,
 "nbformat_minor": 5
}
