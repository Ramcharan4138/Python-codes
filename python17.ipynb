{
 "cells": [
  {
   "cell_type": "code",
   "execution_count": 10,
   "id": "f5ce4ea0-8b6b-4664-841c-867df02c0301",
   "metadata": {},
   "outputs": [
    {
     "name": "stdout",
     "output_type": "stream",
     "text": [
      "subset or not : True\n",
      "proper subset or not : True\n",
      "superset or not : False\n",
      "proper super set or not : True\n"
     ]
    }
   ],
   "source": [
    "# by using conditional operators \n",
    "a={1,2}\n",
    "b={1,2,3,4,5}\n",
    "print(\"subset or not :\", a<=b)\n",
    "print(\"proper subset or not :\",a<b)\n",
    "print(\"superset or not :\", a>=b)\n",
    "print(\"proper super set or not :\", b>a)"
   ]
  },
  {
   "cell_type": "code",
   "execution_count": null,
   "id": "1a00c258-7f92-49c6-9a0b-609435a824ff",
   "metadata": {},
   "outputs": [],
   "source": []
  }
 ],
 "metadata": {
  "kernelspec": {
   "display_name": "Python [conda env:base] *",
   "language": "python",
   "name": "conda-base-py"
  },
  "language_info": {
   "codemirror_mode": {
    "name": "ipython",
    "version": 3
   },
   "file_extension": ".py",
   "mimetype": "text/x-python",
   "name": "python",
   "nbconvert_exporter": "python",
   "pygments_lexer": "ipython3",
   "version": "3.12.7"
  }
 },
 "nbformat": 4,
 "nbformat_minor": 5
}
