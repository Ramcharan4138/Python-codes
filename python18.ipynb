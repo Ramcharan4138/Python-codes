{
 "cells": [
  {
   "cell_type": "code",
   "execution_count": 6,
   "id": "725a3bdf-d8a0-46de-a09b-ca0b9c8ad36c",
   "metadata": {},
   "outputs": [
    {
     "name": "stdout",
     "output_type": "stream",
     "text": [
      "{1, 2, 5}\n"
     ]
    }
   ],
   "source": [
    "#set with lists\n",
    "nums = [1,2,2,5]\n",
    "single= set(nums)\n",
    "print(single)"
   ]
  },
  {
   "cell_type": "code",
   "execution_count": 8,
   "id": "4fcbb331-92c8-4dcd-9e21-74437f93587a",
   "metadata": {},
   "outputs": [
    {
     "name": "stdout",
     "output_type": "stream",
     "text": [
      "x is a subset of y\n"
     ]
    }
   ],
   "source": [
    "x= set([1,2])\n",
    "y=set([1,2,3])\n",
    "if x.issubset(y):\n",
    "    print(\"x is a subset of y\")"
   ]
  },
  {
   "cell_type": "code",
   "execution_count": null,
   "id": "adb11199-cef5-4a02-a813-d50a70a0522c",
   "metadata": {},
   "outputs": [],
   "source": []
  }
 ],
 "metadata": {
  "kernelspec": {
   "display_name": "Python [conda env:base] *",
   "language": "python",
   "name": "conda-base-py"
  },
  "language_info": {
   "codemirror_mode": {
    "name": "ipython",
    "version": 3
   },
   "file_extension": ".py",
   "mimetype": "text/x-python",
   "name": "python",
   "nbconvert_exporter": "python",
   "pygments_lexer": "ipython3",
   "version": "3.12.7"
  }
 },
 "nbformat": 4,
 "nbformat_minor": 5
}
