{
 "cells": [
  {
   "cell_type": "code",
   "execution_count": 4,
   "id": "b321b78e-ec9a-4aaf-8085-00a132f3b658",
   "metadata": {},
   "outputs": [
    {
     "name": "stdout",
     "output_type": "stream",
     "text": [
      "key for value: '(s)':num\n"
     ]
    }
   ],
   "source": [
    "info= {'name':'india', 'num':123}\n",
    "s=123\n",
    "for key,value in info.items():\n",
    "    if value==s:\n",
    "        print(f\"key for value: '(s)':{key}\")"
   ]
  },
  {
   "cell_type": "code",
   "execution_count": null,
   "id": "0a0bfbbf-7c9a-48e7-88ad-d7d87a4eb3c2",
   "metadata": {},
   "outputs": [],
   "source": []
  }
 ],
 "metadata": {
  "kernelspec": {
   "display_name": "Python [conda env:base] *",
   "language": "python",
   "name": "conda-base-py"
  },
  "language_info": {
   "codemirror_mode": {
    "name": "ipython",
    "version": 3
   },
   "file_extension": ".py",
   "mimetype": "text/x-python",
   "name": "python",
   "nbconvert_exporter": "python",
   "pygments_lexer": "ipython3",
   "version": "3.12.7"
  }
 },
 "nbformat": 4,
 "nbformat_minor": 5
}
