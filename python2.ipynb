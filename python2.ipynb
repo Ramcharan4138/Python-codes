{
 "cells": [
  {
   "cell_type": "code",
   "execution_count": 4,
   "id": "4cf5a453-c191-4bd1-b559-1b6be401282e",
   "metadata": {},
   "outputs": [
    {
     "name": "stdout",
     "output_type": "stream",
     "text": [
      "number 1\n",
      "number 2\n",
      "number 3\n",
      "number 4\n",
      "number 5\n",
      "Breaking loop at 6\n"
     ]
    }
   ],
   "source": [
    "num=1\n",
    "while num<=10:\n",
    "    if num==6:\n",
    "        print(\"Breaking loop at 6\")\n",
    "        break\n",
    "    print(\"number\",num)\n",
    "    num+=1\n",
    "else:\n",
    "    print(\"break at 5 \")"
   ]
  },
  {
   "cell_type": "code",
   "execution_count": null,
   "id": "24c3f772-24de-4743-8298-311e0497637f",
   "metadata": {},
   "outputs": [],
   "source": []
  }
 ],
 "metadata": {
  "kernelspec": {
   "display_name": "Python [conda env:base] *",
   "language": "python",
   "name": "conda-base-py"
  },
  "language_info": {
   "codemirror_mode": {
    "name": "ipython",
    "version": 3
   },
   "file_extension": ".py",
   "mimetype": "text/x-python",
   "name": "python",
   "nbconvert_exporter": "python",
   "pygments_lexer": "ipython3",
   "version": "3.12.7"
  }
 },
 "nbformat": 4,
 "nbformat_minor": 5
}
