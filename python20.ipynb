{
 "cells": [
  {
   "cell_type": "code",
   "execution_count": 26,
   "id": "8fb39d3e-f9ed-4e6d-b4ed-0b55943bcec8",
   "metadata": {},
   "outputs": [
    {
     "name": "stdin",
     "output_type": "stream",
     "text": [
      "Enter the age of the person 22\n"
     ]
    },
    {
     "name": "stdout",
     "output_type": "stream",
     "text": [
      "Eligible for vote\n"
     ]
    }
   ],
   "source": [
    "#conditional statements(if,if-else,elif,if-if,nested)\n",
    "#CODE FOR IF CONDITION TO CHECK,WHETHER THE PERSON IS ELIGIBLE TO VOTE OR NOT\n",
    "#age>18\n",
    "age=int(input(\"Enter the age of the person\"))\n",
    "if age>=18:\n",
    "    print(\"Eligible for vote\")\n",
    "else:\n",
    "    print(\"not eligible for vote\")\n"
   ]
  },
  {
   "cell_type": "code",
   "execution_count": 30,
   "id": "abb2ea87-e723-4607-98d5-1a53df6f77ac",
   "metadata": {},
   "outputs": [
    {
     "name": "stdin",
     "output_type": "stream",
     "text": [
      "Enter a number 3\n"
     ]
    },
    {
     "name": "stdout",
     "output_type": "stream",
     "text": [
      "It is odd number\n"
     ]
    }
   ],
   "source": [
    "#check the number is a even or odd\n",
    "x=int(input(\"Enter a number\"))\n",
    "if x%2==0:\n",
    "    print(\"It is a even number\")\n",
    "else:\n",
    "    print(\"It is odd number\")"
   ]
  },
  {
   "cell_type": "code",
   "execution_count": 46,
   "id": "fdc5f832-46d6-4de1-afe8-68c0b729e99b",
   "metadata": {},
   "outputs": [
    {
     "name": "stdin",
     "output_type": "stream",
     "text": [
      "Enter a character R\n"
     ]
    },
    {
     "name": "stdout",
     "output_type": "stream",
     "text": [
      "The entered character was in upper case...lower:r\n"
     ]
    }
   ],
   "source": [
    "# program to enter any character if they entered a character is in lowercase then convert the character to upper case\n",
    "ch=input(\"Enter a character\")\n",
    "if ch>='A' and ch<='Z':\n",
    "    ch=ch.lower()\n",
    "    print(\"The entered character was in upper case...lower:\"+ch)\n",
    "else:\n",
    "    ch=ch.upper()\n",
    "    print(\"The entered character was in lowercase case...upper:\"+ch)"
   ]
  },
  {
   "cell_type": "code",
   "execution_count": 60,
   "id": "66fdfd9a-1d41-4df4-b510-e8caa4657ebe",
   "metadata": {},
   "outputs": [
    {
     "name": "stdin",
     "output_type": "stream",
     "text": [
      "Enter the number: 22\n"
     ]
    },
    {
     "name": "stdout",
     "output_type": "stream",
     "text": [
      "22 is in 21-30 range\n"
     ]
    }
   ],
   "source": [
    "#code for checking the interval of a given number (nested if-elif-else)\n",
    "num = int(input(\"Enter the number:\"))\n",
    "if num>=0 and num<=10:\n",
    "    print(num,\"is in 0-10 range\")\n",
    "elif num>10 and num<=20:\n",
    "    print(num,\"is in 11-20 range\")\n",
    "elif num>20 and num<=30:\n",
    "    print(num,\"is in 21-30 range\")\n",
    "elif num>=31 and num<=100:\n",
    "    print(num,\"is in 31 to 100 range\")\n",
    "else:\n",
    "    print(\"Out of range\")"
   ]
  },
  {
   "cell_type": "code",
   "execution_count": 70,
   "id": "72155eec-465a-4c9c-a051-99ef62168c50",
   "metadata": {},
   "outputs": [
    {
     "name": "stdin",
     "output_type": "stream",
     "text": [
      "Enter a number 22\n"
     ]
    },
    {
     "name": "stdout",
     "output_type": "stream",
     "text": [
      "22 It is a positive number\n"
     ]
    }
   ],
   "source": [
    "#check whether the number is zero,positive or negative\n",
    "x=int(input(\"Enter a number\"))\n",
    "if x>=1:\n",
    "    print(x,\"It is a positive number\")\n",
    "elif x<0:\n",
    "    print(x,\"It is a negative number\")\n",
    "elif x==0:\n",
    "    print(x,\"It is zero \")"
   ]
  },
  {
   "cell_type": "code",
   "execution_count": null,
   "id": "42896cb0-10f2-4197-bb82-8903e60e0965",
   "metadata": {},
   "outputs": [],
   "source": []
  }
 ],
 "metadata": {
  "kernelspec": {
   "display_name": "Python [conda env:base] *",
   "language": "python",
   "name": "conda-base-py"
  },
  "language_info": {
   "codemirror_mode": {
    "name": "ipython",
    "version": 3
   },
   "file_extension": ".py",
   "mimetype": "text/x-python",
   "name": "python",
   "nbconvert_exporter": "python",
   "pygments_lexer": "ipython3",
   "version": "3.12.7"
  }
 },
 "nbformat": 4,
 "nbformat_minor": 5
}
