{
 "cells": [
  {
   "cell_type": "code",
   "execution_count": null,
   "id": "3b57288e-043c-4f68-9133-295d3bdcf8f1",
   "metadata": {},
   "outputs": [],
   "source": [
    "#checking the input is either keys or character or digit or space\n",
    "#input : 8\n",
    "#output: The user has entered a digit\n",
    "#input : t\n",
    "#output : The user has entered a character\n",
    "#input: \n",
    "#output : the user has enterd a space\n",
    "char=input(\"Press any key:\")\n",
    "if char.isalpha():\n",
    "    print(char,\"is a character\")\n",
    "if char.isdigit():\n",
    "    print(char,\"is a digit\")\n",
    "if char.isspace():\n",
    "    print(char,\"is a space\")\n"
   ]
  }
 ],
 "metadata": {
  "kernelspec": {
   "display_name": "Python [conda env:base] *",
   "language": "python",
   "name": "conda-base-py"
  },
  "language_info": {
   "codemirror_mode": {
    "name": "ipython",
    "version": 3
   },
   "file_extension": ".py",
   "mimetype": "text/x-python",
   "name": "python",
   "nbconvert_exporter": "python",
   "pygments_lexer": "ipython3",
   "version": "3.12.7"
  }
 },
 "nbformat": 4,
 "nbformat_minor": 5
}
