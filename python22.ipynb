{
 "cells": [
  {
   "cell_type": "code",
   "execution_count": 8,
   "id": "4c576061-faab-4e0d-bf79-578a12bcce8e",
   "metadata": {},
   "outputs": [
    {
     "name": "stdin",
     "output_type": "stream",
     "text": [
      "Enter a number 5\n"
     ]
    },
    {
     "name": "stdout",
     "output_type": "stream",
     "text": [
      "5 is a positive\n"
     ]
    }
   ],
   "source": [
    "#code to check the number is positive or not\n",
    "num = int(input(\"Enter a number\"))\n",
    "if num>0:\n",
    "    print(num,\"is a positive\")\n",
    "if num<0:\n",
    "    print(num,\"is negative\")\n",
    "if num==0:\n",
    "    print(num,\"is a zero\")"
   ]
  },
  {
   "cell_type": "code",
   "execution_count": null,
   "id": "a6292e03-00ec-4a1e-9654-c40f19623abc",
   "metadata": {},
   "outputs": [],
   "source": []
  }
 ],
 "metadata": {
  "kernelspec": {
   "display_name": "Python [conda env:base] *",
   "language": "python",
   "name": "conda-base-py"
  },
  "language_info": {
   "codemirror_mode": {
    "name": "ipython",
    "version": 3
   },
   "file_extension": ".py",
   "mimetype": "text/x-python",
   "name": "python",
   "nbconvert_exporter": "python",
   "pygments_lexer": "ipython3",
   "version": "3.12.7"
  }
 },
 "nbformat": 4,
 "nbformat_minor": 5
}
