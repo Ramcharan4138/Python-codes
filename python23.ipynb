{
 "cells": [
  {
   "cell_type": "code",
   "execution_count": 36,
   "id": "816dad66-a19c-43f3-adc9-ae623a5fda89",
   "metadata": {},
   "outputs": [
    {
     "name": "stdin",
     "output_type": "stream",
     "text": [
      "Enter a value 5\n"
     ]
    },
    {
     "name": "stdout",
     "output_type": "stream",
     "text": [
      "0 1 2 3 4 5 "
     ]
    }
   ],
   "source": [
    "#looping statements\n",
    "#printing the whole numbers till n\n",
    "n=int(input(\"Enter a value\"))\n",
    "loop =0\n",
    "while loop<=n:\n",
    "    print(loop,end=' ')\n",
    "    loop+=1\n"
   ]
  },
  {
   "cell_type": "code",
   "execution_count": 30,
   "id": "b8bba4b9-704c-4665-8a14-54ffacef7aaa",
   "metadata": {},
   "outputs": [
    {
     "name": "stdin",
     "output_type": "stream",
     "text": [
      "Enter a value 5\n"
     ]
    },
    {
     "name": "stdout",
     "output_type": "stream",
     "text": [
      "5 4 3 2 1 0 "
     ]
    }
   ],
   "source": [
    "#looping statements\n",
    "#reverse loop\n",
    "num=int(input(\"Enter a value\"))\n",
    "while num>=0:\n",
    "    print(num,end=' ')\n",
    "    num-=1"
   ]
  },
  {
   "cell_type": "code",
   "execution_count": 40,
   "id": "5a897f3b-7198-4918-a21e-b0d56e20080f",
   "metadata": {},
   "outputs": [
    {
     "name": "stdin",
     "output_type": "stream",
     "text": [
      "Enter a number 20\n"
     ]
    },
    {
     "name": "stdout",
     "output_type": "stream",
     "text": [
      "0 2 4 6 8 10 12 14 16 18 20 "
     ]
    }
   ],
   "source": [
    "#printing the even numbers still n\n",
    "n=int(input(\"Enter a number\"))\n",
    "i=0\n",
    "while i<=n:\n",
    "    if i%2==0:\n",
    "        print(i,end=' ')\n",
    "    i+=1"
   ]
  },
  {
   "cell_type": "code",
   "execution_count": 48,
   "id": "2bc4bdf0-938c-4c3b-89a9-b090759b7c5a",
   "metadata": {},
   "outputs": [
    {
     "name": "stdin",
     "output_type": "stream",
     "text": [
      "enter a number 100\n"
     ]
    },
    {
     "name": "stdout",
     "output_type": "stream",
     "text": [
      "1 3 5 7 9 11 13 15 17 19 21 23 25 27 29 31 33 35 37 39 41 43 45 47 49 51 53 55 57 59 61 63 65 67 69 71 73 75 77 79 81 83 85 87 89 91 93 95 97 99 "
     ]
    }
   ],
   "source": [
    "#printing the odd numbers still n\n",
    "n=int(input(\"enter a number\"))\n",
    "i=0\n",
    "while i<=n:\n",
    "    if i%2==1:\n",
    "        print(i,end=' ')\n",
    "    i+=1"
   ]
  },
  {
   "cell_type": "code",
   "execution_count": 58,
   "id": "2d70edce-d232-454d-88f8-4448cf50b422",
   "metadata": {},
   "outputs": [
    {
     "name": "stdout",
     "output_type": "stream",
     "text": [
      "Enter -1 to exit..\n"
     ]
    },
    {
     "name": "stdin",
     "output_type": "stream",
     "text": [
      "Enter a number 1\n",
      "Enter a number 2\n",
      "Enter a number 3\n",
      "Enter a number u\n"
     ]
    },
    {
     "ename": "ValueError",
     "evalue": "invalid literal for int() with base 10: 'u'",
     "output_type": "error",
     "traceback": [
      "\u001b[1;31m---------------------------------------------------------------------------\u001b[0m",
      "\u001b[1;31mValueError\u001b[0m                                Traceback (most recent call last)",
      "Cell \u001b[1;32mIn[58], line 5\u001b[0m\n\u001b[0;32m      3\u001b[0m \u001b[38;5;28mprint\u001b[39m(\u001b[38;5;124m\"\u001b[39m\u001b[38;5;124mEnter -1 to exit..\u001b[39m\u001b[38;5;124m\"\u001b[39m)\n\u001b[0;32m      4\u001b[0m \u001b[38;5;28;01mwhile\u001b[39;00m(\u001b[38;5;241m2\u001b[39m):\n\u001b[1;32m----> 5\u001b[0m     num\u001b[38;5;241m=\u001b[39m\u001b[38;5;28mint\u001b[39m(\u001b[38;5;28minput\u001b[39m(\u001b[38;5;124m\"\u001b[39m\u001b[38;5;124mEnter a number\u001b[39m\u001b[38;5;124m\"\u001b[39m))\n\u001b[0;32m      6\u001b[0m     \u001b[38;5;28;01mif\u001b[39;00m num\u001b[38;5;241m==\u001b[39m\u001b[38;5;241m-\u001b[39m\u001b[38;5;241m1\u001b[39m:\n\u001b[0;32m      7\u001b[0m         \u001b[38;5;28;01mbreak\u001b[39;00m\n",
      "\u001b[1;31mValueError\u001b[0m: invalid literal for int() with base 10: 'u'"
     ]
    }
   ],
   "source": [
    "'''program to read numbers untill -1 is encountered also count the negatives,positives,and zero's enterd by the user'''\n",
    "n=p=z=0\n",
    "print(\"Enter -1 to exit..\")\n",
    "while(1):\n",
    "    num=int(input(\"Enter a number\"))\n",
    "    if num==-1:\n",
    "        break\n",
    "    if num==0:\n",
    "        z+=1\n",
    "    elif num>0:\n",
    "        p+=1\n",
    "    else:\n",
    "        n+=1\n",
    "print(\"count of positives entered:\",p)\n",
    "print(\"count of negative enterd:\",n)\n",
    "print(\"count of zero's entered:\",z)"
   ]
  },
  {
   "cell_type": "code",
   "execution_count": null,
   "id": "3a288239-c0eb-420a-b3d4-f5f4c2f5d9af",
   "metadata": {},
   "outputs": [],
   "source": []
  }
 ],
 "metadata": {
  "kernelspec": {
   "display_name": "Python [conda env:base] *",
   "language": "python",
   "name": "conda-base-py"
  },
  "language_info": {
   "codemirror_mode": {
    "name": "ipython",
    "version": 3
   },
   "file_extension": ".py",
   "mimetype": "text/x-python",
   "name": "python",
   "nbconvert_exporter": "python",
   "pygments_lexer": "ipython3",
   "version": "3.12.7"
  }
 },
 "nbformat": 4,
 "nbformat_minor": 5
}
