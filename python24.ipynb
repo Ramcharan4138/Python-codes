{
 "cells": [
  {
   "cell_type": "code",
   "execution_count": 10,
   "id": "789edc9b-224d-4efd-8dfb-4d6aa60221ad",
   "metadata": {},
   "outputs": [
    {
     "name": "stdin",
     "output_type": "stream",
     "text": [
      "Enter a binary number 1111\n"
     ]
    },
    {
     "name": "stdout",
     "output_type": "stream",
     "text": [
      "Decimal equivalent: 15\n"
     ]
    }
   ],
   "source": [
    "#write a program to convert binary number to decimal number by using while loop only\n",
    "bnum=int(input(\"Enter a binary number\"))\n",
    "dnum=i=0\n",
    "while bnum!=0: #bnum>0\n",
    "    r=bnum%10\n",
    "    dnum=dnum+r*(2**i)\n",
    "    bnum//=10\n",
    "    i+=1\n",
    "print(\"Decimal equivalent:\",dnum)"
   ]
  },
  {
   "cell_type": "code",
   "execution_count": null,
   "id": "593e047c-115c-4d82-9795-78f231638504",
   "metadata": {},
   "outputs": [],
   "source": []
  }
 ],
 "metadata": {
  "kernelspec": {
   "display_name": "Python [conda env:base] *",
   "language": "python",
   "name": "conda-base-py"
  },
  "language_info": {
   "codemirror_mode": {
    "name": "ipython",
    "version": 3
   },
   "file_extension": ".py",
   "mimetype": "text/x-python",
   "name": "python",
   "nbconvert_exporter": "python",
   "pygments_lexer": "ipython3",
   "version": "3.12.7"
  }
 },
 "nbformat": 4,
 "nbformat_minor": 5
}
