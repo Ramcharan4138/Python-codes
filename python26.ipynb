{
 "cells": [
  {
   "cell_type": "code",
   "execution_count": 8,
   "id": "2cc60deb-b7ba-425b-bcad-13fabbdea5ae",
   "metadata": {},
   "outputs": [
    {
     "name": "stdin",
     "output_type": "stream",
     "text": [
      "Enter any character: KLU\n",
      "Enter any character: NRI\n",
      "Enter any character: nri\n",
      "Enter any character: klu\n",
      "Enter any character: *\n"
     ]
    },
    {
     "name": "stdout",
     "output_type": "stream",
     "text": [
      "Lowercase characters: 2\n",
      "number : 0\n",
      "uppercase characters: 2\n"
     ]
    }
   ],
   "source": [
    "# WRITE A PYTHON PROGRAM TO READ CHARACTER UNTILL * IS ENTERED. COUNT THE NUMBER OF UPPERCASE,LOWERCASE,AND NUMBERS ENTERED BY THE USER\n",
    "ch=input(\"Enter any character:\")\n",
    "n=u=l=0\n",
    "if ch>='0' and ch<='9':\n",
    "    n+=1\n",
    "elif ch>='a' and ch<='z':\n",
    "    l+=1\n",
    "elif ch>='A' and ch<='Z':\n",
    "    u+=1\n",
    "while ch!='*':\n",
    "    ch=input(\"Enter any character:\")\n",
    "    if ch>='0' and ch<='9':\n",
    "        n+=1\n",
    "    elif ch>='a' and ch<='z':\n",
    "        l+=1\n",
    "    elif ch>='A' and ch<='Z':\n",
    "        u+=1\n",
    "print(\"Lowercase characters:\",l)\n",
    "print(\"number :\",n)\n",
    "print(\"uppercase characters:\",u)"
   ]
  },
  {
   "cell_type": "code",
   "execution_count": null,
   "id": "8a5a2760-3d0d-45eb-9661-337b268fc5f2",
   "metadata": {},
   "outputs": [],
   "source": []
  }
 ],
 "metadata": {
  "kernelspec": {
   "display_name": "Python [conda env:base] *",
   "language": "python",
   "name": "conda-base-py"
  },
  "language_info": {
   "codemirror_mode": {
    "name": "ipython",
    "version": 3
   },
   "file_extension": ".py",
   "mimetype": "text/x-python",
   "name": "python",
   "nbconvert_exporter": "python",
   "pygments_lexer": "ipython3",
   "version": "3.12.7"
  }
 },
 "nbformat": 4,
 "nbformat_minor": 5
}
