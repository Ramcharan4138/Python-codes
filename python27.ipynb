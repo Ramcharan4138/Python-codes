{
 "cells": [
  {
   "cell_type": "code",
   "execution_count": 2,
   "id": "415c6adc-c615-4c5b-8e96-cde9a6794e60",
   "metadata": {},
   "outputs": [
    {
     "name": "stdout",
     "output_type": "stream",
     "text": [
      "cat\n",
      "dog\n",
      "fish\n"
     ]
    }
   ],
   "source": [
    "#List of strings\n",
    "s=['cat','dog','fish']\n",
    "for pet in s:\n",
    "    print(pet)"
   ]
  },
  {
   "cell_type": "code",
   "execution_count": 24,
   "id": "2e158b27-6c67-4f1e-8c75-ad9a76c1892b",
   "metadata": {},
   "outputs": [
    {
     "name": "stdin",
     "output_type": "stream",
     "text": [
      "Enetr the value of n: 10\n"
     ]
    },
    {
     "name": "stdout",
     "output_type": "stream",
     "text": [
      "1 2 3 4 5 6 7 8 9 10 10 9 8 7 6 5 4 3 2 1 "
     ]
    }
   ],
   "source": [
    "#for with-in range\n",
    "n=int(input(\"Enetr the value of n:\"))\n",
    "for i in range(1,n+1):\n",
    "    print(i,end=' ')\n",
    "for i in range(n,0,-1):\n",
    "    print(i,end=' ')"
   ]
  },
  {
   "cell_type": "code",
   "execution_count": 70,
   "id": "3837b559-a41b-40ab-b764-38bdcd9d224c",
   "metadata": {},
   "outputs": [
    {
     "name": "stdin",
     "output_type": "stream",
     "text": [
      "Enter a number:  10000\n"
     ]
    },
    {
     "name": "stdout",
     "output_type": "stream",
     "text": [
      "Multiplication Table of 10000\n",
      "10000 x 1 = 10000\n",
      "10000 x 2 = 20000\n",
      "10000 x 3 = 30000\n",
      "10000 x 4 = 40000\n",
      "10000 x 5 = 50000\n",
      "10000 x 6 = 60000\n",
      "10000 x 7 = 70000\n",
      "10000 x 8 = 80000\n",
      "10000 x 9 = 90000\n",
      "10000 x 10 = 100000\n"
     ]
    }
   ],
   "source": [
    "'''code for printing multiplication table of n where n is enterd by the user.'''\n",
    "num= int(input(\"Enter a number: \"))\n",
    "print(\"Multiplication Table of\",num)\n",
    "for i in range(1, 11):\n",
    "    print(num,\"x\",i,\"=\",num*i)  "
   ]
  },
  {
   "cell_type": "code",
   "execution_count": null,
   "id": "cc5784ff-7506-4013-bfee-26c77e7fe1c9",
   "metadata": {},
   "outputs": [],
   "source": []
  }
 ],
 "metadata": {
  "kernelspec": {
   "display_name": "Python [conda env:base] *",
   "language": "python",
   "name": "conda-base-py"
  },
  "language_info": {
   "codemirror_mode": {
    "name": "ipython",
    "version": 3
   },
   "file_extension": ".py",
   "mimetype": "text/x-python",
   "name": "python",
   "nbconvert_exporter": "python",
   "pygments_lexer": "ipython3",
   "version": "3.12.7"
  }
 },
 "nbformat": 4,
 "nbformat_minor": 5
}
