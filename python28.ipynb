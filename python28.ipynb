{
 "cells": [
  {
   "cell_type": "code",
   "execution_count": 1,
   "id": "195fc755-4f85-4c46-b8c4-e96e28819599",
   "metadata": {},
   "outputs": [
    {
     "name": "stdin",
     "output_type": "stream",
     "text": [
      "Enetr the starting year 1900\n",
      "Enter the ending year 2100\n"
     ]
    },
    {
     "name": "stdout",
     "output_type": "stream",
     "text": [
      "1900 1904 1908 1912 1916 1920 1924 1928 1932 1936 1940 1944 1948 1952 1956 1960 1964 1968 1972 1976 1980 1984 1988 1992 1996 2000 2004 2008 2012 2016 2020 2024 2028 2032 2036 2040 2044 2048 2052 2056 2060 2064 2068 2072 2076 2080 2084 2088 2092 2096 2100 "
     ]
    }
   ],
   "source": [
    "#program to display all the leap years from 1900,2101\n",
    "st=int(input(\"Enetr the starting year\"))\n",
    "ed=int(input(\"Enter the ending year\"))\n",
    "for i in range(st,ed+1):\n",
    "    if i%4==0:\n",
    "        print(i,end=' ')"
   ]
  },
  {
   "cell_type": "code",
   "execution_count": 7,
   "id": "2d4479f1-b747-41b6-8942-18304b38173a",
   "metadata": {},
   "outputs": [
    {
     "name": "stdin",
     "output_type": "stream",
     "text": [
      "Enter the value of n: 5\n"
     ]
    },
    {
     "name": "stdout",
     "output_type": "stream",
     "text": [
      "1.4636111111111112\n"
     ]
    }
   ],
   "source": [
    "#Sum of Reciprocal Squares\n",
    "num=int(input(\"Enter the value of n:\"))\n",
    "s=0.0\n",
    "for i in range(1, num+1):\n",
    "    a=1.0/(i**2)\n",
    "    s+=a\n",
    "print(s)\n"
   ]
  },
  {
   "cell_type": "code",
   "execution_count": null,
   "id": "b344f015-7d17-43b1-b97e-bf76b62bfcc0",
   "metadata": {},
   "outputs": [],
   "source": []
  }
 ],
 "metadata": {
  "kernelspec": {
   "display_name": "Python [conda env:base] *",
   "language": "python",
   "name": "conda-base-py"
  },
  "language_info": {
   "codemirror_mode": {
    "name": "ipython",
    "version": 3
   },
   "file_extension": ".py",
   "mimetype": "text/x-python",
   "name": "python",
   "nbconvert_exporter": "python",
   "pygments_lexer": "ipython3",
   "version": "3.12.7"
  }
 },
 "nbformat": 4,
 "nbformat_minor": 5
}
