{
 "cells": [
  {
   "cell_type": "code",
   "execution_count": 2,
   "id": "6b4c0839-8e0f-4e2d-b08c-8f5ca6b766dd",
   "metadata": {},
   "outputs": [
    {
     "name": "stdout",
     "output_type": "stream",
     "text": [
      "odd numbers: 1\n",
      "odd numbers: 3\n",
      "odd numbers: 5\n",
      "odd numbers: 7\n",
      "odd numbers: 9\n"
     ]
    }
   ],
   "source": [
    "#using continue keyword\n",
    "num=0\n",
    "while num<10: \n",
    "    num+=1\n",
    "    if num%2==0:\n",
    "        continue\n",
    "    print(\"odd numbers:\",num)"
   ]
  },
  {
   "cell_type": "code",
   "execution_count": null,
   "id": "6c2f2a35-4f2e-4034-9f2a-5499ada5d051",
   "metadata": {},
   "outputs": [],
   "source": []
  }
 ],
 "metadata": {
  "kernelspec": {
   "display_name": "Python [conda env:base] *",
   "language": "python",
   "name": "conda-base-py"
  },
  "language_info": {
   "codemirror_mode": {
    "name": "ipython",
    "version": 3
   },
   "file_extension": ".py",
   "mimetype": "text/x-python",
   "name": "python",
   "nbconvert_exporter": "python",
   "pygments_lexer": "ipython3",
   "version": "3.12.7"
  }
 },
 "nbformat": 4,
 "nbformat_minor": 5
}
