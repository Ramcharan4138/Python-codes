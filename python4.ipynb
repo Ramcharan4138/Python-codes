{
 "cells": [
  {
   "cell_type": "code",
   "execution_count": 12,
   "id": "6d9a2646-89d0-43bd-92f6-1e3a06266cca",
   "metadata": {},
   "outputs": [
    {
     "name": "stdout",
     "output_type": "stream",
     "text": [
      "1384\n"
     ]
    }
   ],
   "source": [
    "#revers number using while loop\n",
    "n=4831\n",
    "eb=0\n",
    "while n!=0:\n",
    "    r=n%10\n",
    "    eb=eb*10+r\n",
    "    n=n//10\n",
    "print(eb)\n"
   ]
  },
  {
   "cell_type": "code",
   "execution_count": null,
   "id": "6a45b9a3-6e1d-4897-b465-ed027107e6f8",
   "metadata": {},
   "outputs": [],
   "source": []
  }
 ],
 "metadata": {
  "kernelspec": {
   "display_name": "Python [conda env:base] *",
   "language": "python",
   "name": "conda-base-py"
  },
  "language_info": {
   "codemirror_mode": {
    "name": "ipython",
    "version": 3
   },
   "file_extension": ".py",
   "mimetype": "text/x-python",
   "name": "python",
   "nbconvert_exporter": "python",
   "pygments_lexer": "ipython3",
   "version": "3.12.7"
  }
 },
 "nbformat": 4,
 "nbformat_minor": 5
}
