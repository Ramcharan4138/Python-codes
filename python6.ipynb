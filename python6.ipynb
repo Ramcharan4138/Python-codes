{
 "cells": [
  {
   "cell_type": "code",
   "execution_count": 4,
   "id": "d4afa68e-f1ee-4c8a-8613-d762a8e245d4",
   "metadata": {},
   "outputs": [
    {
     "name": "stdout",
     "output_type": "stream",
     "text": [
      "['Mississippi', 'is', 'in', 'USA']\n"
     ]
    }
   ],
   "source": [
    "# split function in strings\n",
    "text=\"Mississippi is in USA\"\n",
    "words=text.split()\n",
    "print(words)"
   ]
  },
  {
   "cell_type": "code",
   "execution_count": null,
   "id": "1ef8e831-ac00-46f8-98ce-070a2cdc090a",
   "metadata": {},
   "outputs": [],
   "source": []
  }
 ],
 "metadata": {
  "kernelspec": {
   "display_name": "Python [conda env:base] *",
   "language": "python",
   "name": "conda-base-py"
  },
  "language_info": {
   "codemirror_mode": {
    "name": "ipython",
    "version": 3
   },
   "file_extension": ".py",
   "mimetype": "text/x-python",
   "name": "python",
   "nbconvert_exporter": "python",
   "pygments_lexer": "ipython3",
   "version": "3.12.7"
  }
 },
 "nbformat": 4,
 "nbformat_minor": 5
}
