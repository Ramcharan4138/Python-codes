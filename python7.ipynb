{
 "cells": [
  {
   "cell_type": "code",
   "execution_count": 8,
   "id": "4f9e28b9-c974-4b81-a3e8-2bb20b892c98",
   "metadata": {},
   "outputs": [
    {
     "name": "stdout",
     "output_type": "stream",
     "text": [
      "India\n",
      "IndiaIndiaIndiaIndiaIndia\n"
     ]
    }
   ],
   "source": [
    "# basic input and output keywords\n",
    "print(\"India\")\n",
    "print('India'*5)"
   ]
  },
  {
   "cell_type": "code",
   "execution_count": 14,
   "id": "d177b46e-c639-42ff-94eb-cf03c46697a8",
   "metadata": {},
   "outputs": [
    {
     "name": "stdout",
     "output_type": "stream",
     "text": [
      "88\n",
      " 77 11\n"
     ]
    }
   ],
   "source": [
    "print(77+11)\n",
    "print(\" 77 \"+'11')"
   ]
  },
  {
   "cell_type": "code",
   "execution_count": 36,
   "id": "4848af5d-2aef-4884-b072-e7881d8045b7",
   "metadata": {},
   "outputs": [
    {
     "name": "stdin",
     "output_type": "stream",
     "text": [
      "Enter a : india\n",
      "Enter a : won\n"
     ]
    },
    {
     "name": "stdout",
     "output_type": "stream",
     "text": [
      "india won\n",
      "indiawon\n"
     ]
    }
   ],
   "source": [
    "str1= str(input(\"Enter a :\"))\n",
    "str2= str(input(\"Enter a :\"))\n",
    "concate= str1 + str2\n",
    "print( str1, str2 )\n",
    "print( concate )"
   ]
  },
  {
   "cell_type": "code",
   "execution_count": 64,
   "id": "a5078016-7d9e-4e9d-89c5-a3ac0e0040dd",
   "metadata": {},
   "outputs": [
    {
     "name": "stdin",
     "output_type": "stream",
     "text": [
      "Enter a string: india\n"
     ]
    },
    {
     "name": "stdout",
     "output_type": "stream",
     "text": [
      "i\n",
      "i\n",
      "5\n",
      "INDIA\n",
      "india\n",
      "nd\n",
      "aidni\n"
     ]
    }
   ],
   "source": [
    "str1=str(input(\"Enter a string:\"))\n",
    "print(str1[3])\n",
    "print(str1[-2])\n",
    "print(len(str1))\n",
    "print(str1.upper())\n",
    "print(str1.lower())\n",
    "print(str1[1:3])\n",
    "print(str1[::-1])"
   ]
  },
  {
   "cell_type": "code",
   "execution_count": null,
   "id": "48ac1679-ff84-4108-b579-9d7af9a54dad",
   "metadata": {},
   "outputs": [],
   "source": []
  }
 ],
 "metadata": {
  "kernelspec": {
   "display_name": "Python [conda env:base] *",
   "language": "python",
   "name": "conda-base-py"
  },
  "language_info": {
   "codemirror_mode": {
    "name": "ipython",
    "version": 3
   },
   "file_extension": ".py",
   "mimetype": "text/x-python",
   "name": "python",
   "nbconvert_exporter": "python",
   "pygments_lexer": "ipython3",
   "version": "3.12.7"
  }
 },
 "nbformat": 4,
 "nbformat_minor": 5
}
