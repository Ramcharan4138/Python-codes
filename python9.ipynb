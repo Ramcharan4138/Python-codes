{
 "cells": [
  {
   "cell_type": "code",
   "execution_count": 9,
   "id": "bb1d6562-b4d9-4136-a395-6ba1c59c77f6",
   "metadata": {},
   "outputs": [
    {
     "name": "stdout",
     "output_type": "stream",
     "text": [
      "vijay\n",
      "6.2\n",
      "{'name': 'vijay', 'height': 6.2, 'City': 'Mumbai'}\n",
      "6.2\n",
      "dict_keys(['name', 'height', 'City'])\n",
      "dict_values(['vijay', 6.2, 'Mumbai'])\n"
     ]
    }
   ],
   "source": [
    "#dictionary operations\n",
    "person= { 'name':'vijay', 'height': 6.2}\n",
    "print(person['name'])\n",
    "print(person['height'])\n",
    "person[\"City\"]= 'Mumbai'\n",
    "print(person)\n",
    "#get a keyword\n",
    "print(person.get(\"height\"))\n",
    "print(person.keys())\n",
    "print(person.values())"
   ]
  },
  {
   "cell_type": "code",
   "execution_count": null,
   "id": "8b4c48e9-7112-4c51-835f-44454812afbd",
   "metadata": {},
   "outputs": [],
   "source": []
  }
 ],
 "metadata": {
  "kernelspec": {
   "display_name": "Python [conda env:base] *",
   "language": "python",
   "name": "conda-base-py"
  },
  "language_info": {
   "codemirror_mode": {
    "name": "ipython",
    "version": 3
   },
   "file_extension": ".py",
   "mimetype": "text/x-python",
   "name": "python",
   "nbconvert_exporter": "python",
   "pygments_lexer": "ipython3",
   "version": "3.12.7"
  }
 },
 "nbformat": 4,
 "nbformat_minor": 5
}
